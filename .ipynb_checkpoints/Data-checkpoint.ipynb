{
 "cells": [
  {
   "cell_type": "code",
   "execution_count": null,
   "id": "25935d4c",
   "metadata": {},
   "outputs": [],
   "source": [
    "import subprocess\n",
    "import sys\n",
    "subprocess.check_call([sys.executable,\"-m\",\"pip\", \"install\", \"yfinance\"])\n",
    "import yfinance as yf\n",
    "import matplotlib.pyplot as plt\n"
   ]
  },
  {
   "cell_type": "code",
   "execution_count": null,
   "id": "8c366cb9",
   "metadata": {},
   "outputs": [],
   "source": [
    "tickerSymbol='BARC.L'\n",
    "tickerData=yf.Ticker(tickerSymbol)"
   ]
  },
  {
   "cell_type": "code",
   "execution_count": null,
   "id": "924a2c59",
   "metadata": {},
   "outputs": [],
   "source": [
    "Daily = tickerData.history(period='1d', start='2023-01-01', end='2023-12-31')\n",
    "\n",
    "Daily = Daily.reset_index()\n",
    "print(Daily)\n",
    "\n",
    "daily=Daily[[\"Date\",\"Close\"]]\n",
    "print(daily)\n",
    "\n",
    "# Plotting the data\n",
    "plt.figure(figsize=(10, 6))\n",
    "plt.plot(daily['Date'], daily['Close'], marker='o', linestyle='-')\n",
    "plt.title(f'{tickerSymbol} Close Price (2024-01-01 to 2024-12-31)')\n",
    "plt.xlabel('Date')\n",
    "plt.ylabel('Close Price')\n",
    "plt.grid(True)\n",
    "plt.xticks(rotation=45)\n",
    "plt.tight_layout()\n",
    "plt.show()"
   ]
  },
  {
   "cell_type": "code",
   "execution_count": null,
   "id": "12cc2bb9",
   "metadata": {},
   "outputs": [],
   "source": [
    "# Get minute-by-minute data for the last 1 day\n",
    "Intra = yf.download(tickerSymbol, period='1d', interval='1m')\n",
    "\n",
    "Intra = Intra.reset_index()\n",
    "\n",
    "print(Intra)"
   ]
  },
  {
   "cell_type": "code",
   "execution_count": null,
   "id": "4b38ad07",
   "metadata": {},
   "outputs": [],
   "source": [
    "intra=Intra[[\"Datetime\",\"Close\"]]\n",
    "print(intra)\n",
    "\n",
    "\n",
    "# Plotting the data\n",
    "plt.figure(figsize=(15, 8))\n",
    "plt.plot(intra['Datetime'], intra['Close'], marker='o', linestyle='-', markersize=2, alpha=0.7)\n",
    "plt.xlabel('Datetime')\n",
    "plt.ylabel('Close Price')\n",
    "plt.grid(True)\n",
    "plt.xticks(rotation=45)\n",
    "plt.tight_layout()\n",
    "plt.show()"
   ]
  },
  {
   "cell_type": "code",
   "execution_count": null,
   "id": "36c431c3",
   "metadata": {},
   "outputs": [],
   "source": [
    "# Get weekly data for the last 3 months\n",
    "Weekly = yf.download(tickerSymbol, period='3mo', interval='1wk')\n",
    "\n",
    "\n",
    "Weekly = Weekly.reset_index()\n",
    "\n",
    "weekly=Weekly[[\"Date\",\"Close\"]]\n",
    "# Display the data\n",
    "print(weekly)\n",
    "\n",
    "# Plotting the data\n",
    "plt.figure(figsize=(10, 6))\n",
    "plt.plot(weekly['Date'], weekly['Close'], marker='o', linestyle='-')\n",
    "plt.title(f'{tickerSymbol} Close Price')\n",
    "plt.xlabel('Date')\n",
    "plt.ylabel('Close Price')\n",
    "plt.grid(True)\n",
    "plt.xticks(rotation=45)\n",
    "plt.tight_layout()\n",
    "plt.show()"
   ]
  },
  {
   "cell_type": "code",
   "execution_count": null,
   "id": "978b7c2e",
   "metadata": {},
   "outputs": [],
   "source": []
  },
  {
   "cell_type": "code",
   "execution_count": null,
   "id": "2d0982cb",
   "metadata": {},
   "outputs": [],
   "source": []
  },
  {
   "cell_type": "code",
   "execution_count": null,
   "id": "3bb63b0a",
   "metadata": {},
   "outputs": [],
   "source": []
  }
 ],
 "metadata": {
  "kernelspec": {
   "display_name": "Python 3 (ipykernel)",
   "language": "python",
   "name": "python3"
  },
  "language_info": {
   "codemirror_mode": {
    "name": "ipython",
    "version": 3
   },
   "file_extension": ".py",
   "mimetype": "text/x-python",
   "name": "python",
   "nbconvert_exporter": "python",
   "pygments_lexer": "ipython3",
   "version": "3.11.5"
  }
 },
 "nbformat": 4,
 "nbformat_minor": 5
}
